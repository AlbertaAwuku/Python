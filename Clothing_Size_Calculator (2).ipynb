{
 "cells": [
  {
   "cell_type": "markdown",
   "id": "27c6cf6b-7f22-42bd-8b24-91564b6e59de",
   "metadata": {},
   "source": [
    "# GROUP 4 \n",
    "### GROUP MEMBERS\n",
    "- Nazira Fuseni\n",
    "- Alberta Nana Ama Awuku\n",
    "- Esinam Amaglo\n",
    "- Angelica Adjei-Kwarteng\n",
    "- Firdaus Mohammed\n",
    "- Andres Atibila\n",
    "- Maame Esi Nkumah Mensah"
   ]
  },
  {
   "cell_type": "markdown",
   "id": "9efbcb90-e81e-40cd-b506-5db0557e5b58",
   "metadata": {},
   "source": [
    "### CLOTHING SIZE CALCULATOR\n",
    "###### This is an app to recommend the dress size and/ or pants size based on the measurements you provide in inches."
   ]
  },
  {
   "cell_type": "code",
   "execution_count": 1,
   "id": "22ee4506-1057-4839-bc6d-9044951978f4",
   "metadata": {},
   "outputs": [],
   "source": [
    "#Creating a class dress size\n",
    "class DressSize:\n",
    "    def __init__(self, bust, waist, hips):\n",
    "        self.bust = bust\n",
    "        self.waist = waist\n",
    "        self.hips = hips\n",
    "        \n",
    "    \n",
    "    def dress_size(self):\n",
    "        if self.bust <= 32 and self.waist <= 24 and self.hips <= 34:\n",
    "            return \"UK Dress Size 6\"\n",
    "        elif self.bust <= 34 and self.waist <= 26 and self.hips <= 36:\n",
    "            return \"UK Dress Size 8\"\n",
    "        elif self.bust <= 36 and self.waist <= 28 and self.hips <= 38:\n",
    "            return \"UK Dress Size 10\"\n",
    "        elif self.bust <= 38 and self.waist <= 30 and self.hips <= 40:\n",
    "            return \"UK Dress Size 12\"\n",
    "        elif self.bust <= 40 and self.waist <= 32 and self.hips <= 42:\n",
    "            return \"UK Dress Size 14\"\n",
    "        elif self.bust <= 42 and self.waist <= 34 and self.hips <= 44:\n",
    "            return \"UK Dress Size 16\"\n",
    "        elif self.bust <= 47 and self.waist <= 42 and self.hips <= 50:\n",
    "            return \"UK Dress Size 18\"\n",
    "        elif self.bust <= 49 and self.waist <= 44 and self.hips <= 52:\n",
    "            return \"UK Dress Size 20\"\n",
    "        elif self.bust <= 51 and self.waist <= 46 and self.hips <= 54:\n",
    "            return \"UK Dress Size 22\"\n",
    "        elif self.bust <= 53 and self.waist <= 49 and self.hips <= 56:\n",
    "            return \"UK Dress Size 24\"\n",
    "        elif self.bust <= 55 and self.waist <= 51 and self.hips <= 58:\n",
    "            return \"UK Dress Size 26\"\n",
    "        elif self.bust <= 57 and self.waist <= 53 and self.hips <= 60:\n",
    "            return \"UK Dress Size 28\"\n",
    "        elif self.bust <= 59 and self.waist <= 55 and self.hips <= 62:\n",
    "            return \"UK Dress Size 30\"\n",
    "        else:\n",
    "            return \"Dress size not in range\"\n",
    "\n",
    " #Creating a class Trouser Size       \n",
    "class TrouserSize:\n",
    "    def __init__(self, waist, hips, inseam):\n",
    "        self.waist = waist\n",
    "        self.hips = hips\n",
    "        self.inseam = inseam\n",
    "        \n",
    "        \n",
    "    def pants_size(self):\n",
    "        if self.waist <= 24 and self.hips <= 34 and self.inseam <= 30:\n",
    "            return \"UK Pants Size 6\"\n",
    "        elif self.waist <= 26 and self.hips <= 36 and self.inseam <= 31:\n",
    "            return \"UK Pants Size 8\"\n",
    "        elif self.waist <= 28 and self.hips <= 38 and self.inseam <= 32:\n",
    "            return \"UK Pants Size 10\"\n",
    "        elif self.waist <= 30 and self.hips <= 40 and self.inseam <= 33:\n",
    "            return \"UK Pants Size 12\"\n",
    "        elif self.waist <= 32 and self.hips <= 42 and self.inseam <= 34:\n",
    "            return \"UK Pants Size 14\"\n",
    "        elif self.waist <= 34 and self.hips <= 44 and self.inseam <= 35:\n",
    "            return \"UK Pants Size 16\"\n",
    "        elif self.waist <= 36 and self.hips <= 46 and self.inseam <= 36:\n",
    "            return \"UK Pants Size 18\"\n",
    "        elif self.waist <= 38 and self.hips <= 48 and self.inseam <= 37:\n",
    "            return \"UK Pants Size 20\"\n",
    "        elif self.waist <= 40 and self.hips <= 50 and self.inseam <= 38:\n",
    "            return \"UK Pants Size 22\"\n",
    "        elif self.waist <= 42 and self.hips <= 52 and self.inseam <= 39:\n",
    "            return \"UK Pants Size 24\"\n",
    "        elif self.waist <= 44 and self.hips <= 54 and self.inseam <= 40:\n",
    "            return \"UK Pants Size 26\"\n",
    "        elif self.waist <= 46 and self.hips <= 56 and self.inseam <= 41:\n",
    "            return \"UK Pants Size 28\"\n",
    "        elif self.waist <= 48 and self.hips <= 58 and self.inseam <= 42:\n",
    "            return \"UK Pants Size 30\" \n",
    "        else:\n",
    "            return \"Pants size not in range\"\n",
    "\n",
    "\n",
    "\n"
   ]
  },
  {
   "cell_type": "code",
   "execution_count": 3,
   "id": "dc6e8685-a7e0-40d1-a013-b0fc57fa3426",
   "metadata": {},
   "outputs": [
    {
     "name": "stdin",
     "output_type": "stream",
     "text": [
      "Enter bust measurement (in inches):  32\n",
      "Enter waist measurement (in inches):  24\n",
      "Enter hips measurement (in inches):  31\n"
     ]
    },
    {
     "name": "stdout",
     "output_type": "stream",
     "text": [
      "dress size: UK Dress Size 6\n"
     ]
    }
   ],
   "source": [
    "#Input & Output\n",
    "#printing out the dress size\n",
    "bust = float(input(\"Enter bust measurement (in inches): \"))\n",
    "waist = float(input(\"Enter waist measurement (in inches): \"))\n",
    "hips = float(input(\"Enter hips measurement (in inches): \"))\n",
    "\n",
    "dress_size = DressSize(bust, waist, hips)\n",
    "print(f\"dress size: {dress_size.dress_size()}\")"
   ]
  },
  {
   "cell_type": "code",
   "execution_count": 11,
   "id": "384094a5-f37c-4e24-953d-dc8dde41ee27",
   "metadata": {},
   "outputs": [
    {
     "name": "stdin",
     "output_type": "stream",
     "text": [
      "Enter waist measurement (in inches):  32\n",
      "Enter hips measurement (in inches):  42\n",
      "Enter inseam measurement (in inches):  34\n"
     ]
    },
    {
     "name": "stdout",
     "output_type": "stream",
     "text": [
      "pants size: UK Pants Size 14\n"
     ]
    }
   ],
   "source": [
    "#Input & Output\n",
    "#printing out the pants size\n",
    "waist = float(input(\"Enter waist measurement (in inches): \"))\n",
    "hips = float(input(\"Enter hips measurement (in inches): \"))\n",
    "inseam = float(input(\"Enter inseam measurement (in inches): \"))\n",
    "\n",
    "pant_size = TrouserSize(waist, hips, inseam)\n",
    "print(f\"pants size: {pant_size.pants_size()}\")"
   ]
  },
  {
   "cell_type": "code",
   "execution_count": null,
   "id": "4772e0aa-c8da-4b1e-bebf-34d881480b39",
   "metadata": {},
   "outputs": [],
   "source": []
  }
 ],
 "metadata": {
  "kernelspec": {
   "display_name": "Python 3 (ipykernel)",
   "language": "python",
   "name": "python3"
  },
  "language_info": {
   "codemirror_mode": {
    "name": "ipython",
    "version": 3
   },
   "file_extension": ".py",
   "mimetype": "text/x-python",
   "name": "python",
   "nbconvert_exporter": "python",
   "pygments_lexer": "ipython3",
   "version": "3.12.4"
  }
 },
 "nbformat": 4,
 "nbformat_minor": 5
}
